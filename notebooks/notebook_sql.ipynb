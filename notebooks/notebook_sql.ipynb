{
 "cells": [
  {
   "cell_type": "code",
   "execution_count": 2,
   "id": "3dc3c9e3-6151-4fb8-a33e-e1ab19578803",
   "metadata": {},
   "outputs": [
    {
     "name": "stdout",
     "output_type": "stream",
     "text": [
      "Spark Session de análise criada.\n",
      "Tabela Parquet carregada com sucesso!\n",
      "Tabela temporária 'posicoes' criada. Agora podemos usar SQL!\n"
     ]
    }
   ],
   "source": [
    "from pyspark.sql import SparkSession\n",
    "\n",
    "spark = SparkSession.builder \\\n",
    "    .appName(\"AnaliseOnibus\") \\\n",
    "    .getOrCreate()\n",
    "\n",
    "print(\"Spark Session de análise criada.\")\n",
    "\n",
    "df_onibus = spark.read.load(\"../data/posicoes_onibus_parquet\")\n",
    "\n",
    "print(\"Tabela Parquet carregada com sucesso!\")\n",
    "\n",
    "df_onibus.createOrReplaceTempView(\"posicoes\")\n",
    "\n",
    "print(\"Tabela temporária 'posicoes' criada. Agora podemos usar SQL!\")"
   ]
  },
  {
   "cell_type": "code",
   "execution_count": 3,
   "id": "55775f2b-cfb4-42f8-aa5e-3e9af9b60c4c",
   "metadata": {},
   "outputs": [
    {
     "name": "stdout",
     "output_type": "stream",
     "text": [
      "+-----+\n",
      "|total|\n",
      "+-----+\n",
      "|37945|\n",
      "+-----+\n",
      "\n"
     ]
    }
   ],
   "source": [
    "# Conta todos os registros salvos\n",
    "\n",
    "total_registros = spark.sql(\"SELECT COUNT(*) as total FROM posicoes\")\n",
    "total_registros.show()"
   ]
  },
  {
   "cell_type": "code",
   "execution_count": 6,
   "id": "b8493c9b-a857-4f1c-b3af-02220e5e8f36",
   "metadata": {},
   "outputs": [
    {
     "name": "stdout",
     "output_type": "stream",
     "text": [
      "+--------+-----------+\n",
      "|id_linha|ocorrencias|\n",
      "+--------+-----------+\n",
      "|   34356|        167|\n",
      "|   33170|        153|\n",
      "|   32975|        148|\n",
      "|   33361|        128|\n",
      "|   33112|        121|\n",
      "|    2004|        104|\n",
      "|    1095|        104|\n",
      "|   33051|        104|\n",
      "|     900|         99|\n",
      "|   33626|         97|\n",
      "+--------+-----------+\n",
      "\n"
     ]
    }
   ],
   "source": [
    "# 10 linhas de onibus com mais atividade\n",
    "\n",
    "linhas_mais_ativas = spark.sql(\"\"\"\n",
    "    SELECT id_linha, COUNT(*) as ocorrencias\n",
    "    FROM posicoes\n",
    "    GROUP BY id_linha\n",
    "    ORDER BY ocorrencias DESC\n",
    "    LIMIT 10\n",
    "\"\"\")\n",
    "linhas_mais_ativas.show()"
   ]
  },
  {
   "cell_type": "code",
   "execution_count": 7,
   "id": "1f6a8820-e23b-4e25-8219-6c4f99764496",
   "metadata": {},
   "outputs": [
    {
     "name": "stdout",
     "output_type": "stream",
     "text": [
      "+-------------------+--------+------------+----------------+-----------------+---------------+---------+-------------------+-------------------+---------+\n",
      "|  timestamp_captura|id_linha|letreiro_ida|  letreiro_volta|destino_principal|prefixo_veiculo| latitude|          longitude|  timestamp_veiculo|acessivel|\n",
      "+-------------------+--------+------------+----------------+-----------------+---------------+---------+-------------------+-------------------+---------+\n",
      "|2025-07-06 20:19:11|   33924|           2|TERM. STO. AMARO|        JD. ORION|          66942|-23.69541|-46.700540000000004|2025-07-06 20:19:11|     true|\n",
      "+-------------------+--------+------------+----------------+-----------------+---------------+---------+-------------------+-------------------+---------+\n",
      "\n"
     ]
    }
   ],
   "source": [
    "# Encontrar a ultima posição registrada de um veículo especifico\n",
    "\n",
    "prefixo = \"66942\" \n",
    "\n",
    "ultima_posicao = spark.sql(f\"\"\"\n",
    "    SELECT * FROM posicoes \n",
    "    WHERE prefixo_veiculo = '{prefixo}' \n",
    "    ORDER BY timestamp_veiculo DESC \n",
    "    LIMIT 1\n",
    "\"\"\")\n",
    "ultima_posicao.show()"
   ]
  },
  {
   "cell_type": "code",
   "execution_count": null,
   "id": "ade6aafb-e9d1-40bc-9548-f330269a8b05",
   "metadata": {},
   "outputs": [],
   "source": []
  }
 ],
 "metadata": {
  "kernelspec": {
   "display_name": "Python 3 (ipykernel)",
   "language": "python",
   "name": "python3"
  },
  "language_info": {
   "codemirror_mode": {
    "name": "ipython",
    "version": 3
   },
   "file_extension": ".py",
   "mimetype": "text/x-python",
   "name": "python",
   "nbconvert_exporter": "python",
   "pygments_lexer": "ipython3",
   "version": "3.11.13"
  }
 },
 "nbformat": 4,
 "nbformat_minor": 5
}
